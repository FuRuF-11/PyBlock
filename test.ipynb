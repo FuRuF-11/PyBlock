{
 "cells": [
  {
   "cell_type": "code",
   "execution_count": 4,
   "metadata": {},
   "outputs": [],
   "source": [
    "import numpy as np\n",
    "import pandas as pd\n",
    "import matplotlib.pyplot as plt\n",
    "\n",
    "import torch\n",
    "import torch.nn as nn\n",
    "from torch.utils.data import dataset,dataloader \n",
    "import torch.optim as optim\n",
    "from Transformer import Transformer\n",
    "from Transformer import Encoder,EncoderBlock\n",
    "from Transformer import Decoder,DecoderBlock"
   ]
  },
  {
   "cell_type": "code",
   "execution_count": 5,
   "metadata": {},
   "outputs": [],
   "source": [
    "config={\n",
    "    \"head_num\": 8,\n",
    "    \"batch_size\": 64,\n",
    "    \"output_size\": 50,\n",
    "    \"sentence_length\": 50,\n",
    "    \"layer_size\": 8,\n",
    "    \"dropout\": 0.3,\n",
    "    \"pad\":0,\n",
    "    \"lr\":0.001\n",
    "}\n",
    "config[\"d_model\"]=config[\"head_num\"]*50\n",
    "config[\"hidden_size\"]=2*config[\"d_model\"]"
   ]
  },
  {
   "cell_type": "code",
   "execution_count": 3,
   "metadata": {},
   "outputs": [
    {
     "name": "stdout",
     "output_type": "stream",
     "text": [
      "torch.Size([64, 50, 400])\n"
     ]
    }
   ],
   "source": [
    "a=torch.randn(config[\"batch_size\"],config[\"sentence_length\"],config[\"d_model\"])\n",
    "# block=EncoderBlock(d_model=config[\"d_model\"],hidden_size=config[\"hidden_size\"],head=config[\"head_num\"],dropout=config[\"dropout\"])\n",
    "\n",
    "# encoder=Encoder(config)\n",
    "# res=block(a)\n",
    "# res=encoder(a)\n",
    "\n",
    "res=DecoderBlock(d_model=config[\"d_model\"],hidden_size=config[\"hidden_size\"],head=config[\"head_num\"],dropout=config[\"dropout\"])\n",
    "print(res.size())\n",
    "# b=a=torch.randn(64,50,50)\n",
    "# Tran=Transformer(config)\n",
    "# Tran(a,b)\n"
   ]
  },
  {
   "cell_type": "code",
   "execution_count": null,
   "metadata": {},
   "outputs": [],
   "source": []
  },
  {
   "cell_type": "code",
   "execution_count": null,
   "metadata": {},
   "outputs": [],
   "source": []
  },
  {
   "cell_type": "code",
   "execution_count": null,
   "metadata": {},
   "outputs": [],
   "source": []
  },
  {
   "cell_type": "code",
   "execution_count": null,
   "metadata": {},
   "outputs": [],
   "source": []
  }
 ],
 "metadata": {
  "kernelspec": {
   "display_name": "DL2024",
   "language": "python",
   "name": "python3"
  },
  "language_info": {
   "codemirror_mode": {
    "name": "ipython",
    "version": 3
   },
   "file_extension": ".py",
   "mimetype": "text/x-python",
   "name": "python",
   "nbconvert_exporter": "python",
   "pygments_lexer": "ipython3",
   "version": "3.9.18"
  }
 },
 "nbformat": 4,
 "nbformat_minor": 2
}
